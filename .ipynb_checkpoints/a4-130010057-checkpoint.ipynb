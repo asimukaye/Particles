{
 "metadata": {
  "name": ""
 },
 "nbformat": 3,
 "nbformat_minor": 0,
 "worksheets": [
  {
   "cells": [
    {
     "cell_type": "code",
     "collapsed": false,
     "input": [
      "import numpy as np\n",
      "import matplotlib.pyplot as plt\n",
      "from matplotlib.backends.backend_pdf import PdfPages\n",
      "import copy"
     ],
     "language": "python",
     "metadata": {},
     "outputs": [],
     "prompt_number": 188
    },
    {
     "cell_type": "code",
     "collapsed": false,
     "input": [
      "def vortex_vel(z, vortex_pos, vortex_str):\n",
      "    return (-1j*vortex_str/(2*np.pi*(z - vortex_pos))).conjugate()"
     ],
     "language": "python",
     "metadata": {},
     "outputs": [],
     "prompt_number": 323
    },
    {
     "cell_type": "code",
     "collapsed": false,
     "input": [
      "def source_vel(z, source_pos, source_str):\n",
      "    return (source_str*np.log(z - source_pos)).conjugate() "
     ],
     "language": "python",
     "metadata": {},
     "outputs": [],
     "prompt_number": 324
    },
    {
     "cell_type": "code",
     "collapsed": false,
     "input": [
      "class Panel:\n",
      "    def __init__(self, start, end):\n",
      "        self.start = start\n",
      "        self.end = end\n",
      "        self.mid = 0.5*(start + end) \n",
      "        self.length = abs(start - end)\n",
      "        self.angle = np.angle(end - start)\n",
      "        ang = np.angle(end - start) + np.pi/2.0\n",
      "        self.normal = np.cos(ang) + 1j*np.sin(ang)"
     ],
     "language": "python",
     "metadata": {},
     "outputs": [],
     "prompt_number": 325
    },
    {
     "cell_type": "code",
     "collapsed": false,
     "input": [
      "def discretise_cylinder(n=20, r=1.0):\n",
      "    ang_pos = np.linspace(0, 2*np.pi, n+1)[:-1]\n",
      "    panel_start_pos = r*(np.cos(ang_pos) + 1j*np.sin(ang_pos))\n",
      "    panel_end_pos = r*(np.cos(ang_pos+2*np.pi/n) + 1j*np.sin(ang_pos+2*np.pi/n))\n",
      "    panel_mid_pos = (panel_start_pos + panel_end_pos)/2.0\n",
      "    panel_ang = np.angle(panel_mid_pos) + np.pi/2.0\n",
      "    panels = []\n",
      "    for i in range(n):\n",
      "        panels.append(Panel(panel_start_pos[i], panel_end_pos[i]))\n",
      "    return panels"
     ],
     "language": "python",
     "metadata": {},
     "outputs": [],
     "prompt_number": 326
    },
    {
     "cell_type": "code",
     "collapsed": false,
     "input": [
      "def matrix_a(n=20, r=1.0):\n",
      "    panels = discretise_cylinder(n, r)\n",
      "    a = np.zeros([n+1,n])\n",
      "    for i in range(n):\n",
      "        for j in range(n):\n",
      "            if i != j:\n",
      "                rotate = np.exp(1j*panels[j].angle)               \n",
      "                mid_new = (panels[i].mid - panels[j].start)/rotate               \n",
      "                v_ij = -1j*np.log((mid_new - panels[j].length)/mid_new)/(2*np.pi)\n",
      "                v_ij = v_ij.conjugate()*rotate\n",
      "                a[i][j] = (v_ij.conjugate()*panels[i].normal).real\n",
      "    a[n][:] = 1.0\n",
      "    return a"
     ],
     "language": "python",
     "metadata": {},
     "outputs": [],
     "prompt_number": 378
    },
    {
     "cell_type": "code",
     "collapsed": false,
     "input": [
      "def matrix_b(n=20, r=1.0, v_fs=1.0+0.0j, vortex_pos=[0.0+0.0j], vortex_str=[0.0+0.0j], v_b = 0.0+0.0j, source_pos=[0.0+0.0j], source_str=[0.0+0.0j]):\n",
      "    b = np.zeros([n+1, 1])\n",
      "    panels = discretise_cylinder(n, r)\n",
      "    for i in range(n):\n",
      "        v_source = 0.0 + 0.0j\n",
      "        for j, z in enumerate(source_pos):\n",
      "            v_source += source_vel(panels[i].mid, z, source_str[j]).conjugate()\n",
      "        v_vortex = 0.0 + 0.0j\n",
      "        for j, z in enumerate(vortex_pos):\n",
      "            v_vortex += vortex_vel(panels[i].mid, z, vortex_str[j]).conjugate()\n",
      "        b[i] = ((v_b - v_fs - v_source - v_vortex)*((panels[i].normal).conjugate())).real\n",
      "    return b"
     ],
     "language": "python",
     "metadata": {},
     "outputs": [],
     "prompt_number": 379
    },
    {
     "cell_type": "code",
     "collapsed": false,
     "input": [
      "def error_plots(n=10, r=1.0, v_fs = 1.0+0.0j):\n",
      "    error = []\n",
      "    num_points = 10\n",
      "    a = matrix_a(n, r)\n",
      "    b = matrix_b(n, r, v_fs)\n",
      "    gamma = np.linalg.lstsq(a,b)[0]\n",
      "    panels = discretise_cylinder(n, r)\n",
      "    ang_pos = np.linspace(0.0, 2*np.pi, num_points, endpoint=False)\n",
      "#    for radius in [r, 1.5*r, 2.0*r, 2.5*r, 3.0*r, 5.0*r, 10*r]:\n",
      "    for radius in [1.5*r]:\n",
      "        exact_vel = v_fs*(np.sqrt(1.0 + (r/radius)**4 - 2.0*(r/radius)**2*np.cos(2.0*ang_pos)))\n",
      "        vel = np.zeros(num_points)\n",
      "        pos = radius*np.exp(1.0j*ang_pos)\n",
      "        for i,panel in enumerate(panels):\n",
      "            rotate = np.exp(1.0j*panel.angle)\n",
      "            z_new = (pos - panel.start)/rotate\n",
      "            v = -1.0j*gamma[i]*np.log((z_new - panel.length)/z_new)/(2.0*np.pi)\n",
      "            v = v.conjugate()*rotate\n",
      "            vel += v\n",
      "        vel = abs(np.array(vel))\n",
      "        err = abs(vel - np.array(exact_vel))\n",
      "        error.append(sum(err)/num_points)\n",
      "    print vel, exact_vel"
     ],
     "language": "python",
     "metadata": {},
     "outputs": [],
     "prompt_number": 396
    },
    {
     "cell_type": "code",
     "collapsed": false,
     "input": [
      "def trajectory(n=50, dt=0.1, tot_t=20.0, r=1.0, vort_pos=1.5+0j, vort_str=2*np.pi):\n",
      "    t = 0.0\n",
      "    pos = copy.copy(vort_pos)\n",
      "    pos_list = [vort_pos]\n",
      "    a = matrix_a(n, r)\n",
      "    panels = discretise_cylinder(n, r)\n",
      "    while t<tot_t:\n",
      "        b = matrix_b(n, r, 0.0+0.0j, [vort_pos], [vort_str])\n",
      "        gamma = np.linalg.lstsq(a,b)[0] \n",
      "        vel = 0.0 + 0.0j\n",
      "        for i, strength in enumerate(gamma):\n",
      "            rotate = np.exp(1.0j*panels[i].angle)\n",
      "            pos_new = (pos - panels[i].start)/rotate\n",
      "            v = -1.0j*strength*np.log((pos_new - panels[i].length)/pos_new)/(2.0*np.pi)\n",
      "            vel += v.conjugate()*rotate\n",
      "        mid_pos = pos + vel*dt/2.0\n",
      "        mid_vel = 0.0 + 0.0j\n",
      "        b = matrix_b(n, r, 0.0+0.0j, [mid_pos], [vort_str])\n",
      "        gamma = np.linalg.lstsq(a,b)[0]\n",
      "        for i, strength in enumerate(gamma):\n",
      "            rotate = np.exp(1.0j*panels[i].angle)\n",
      "            mid_pos_new = (mid_pos - panels[i].start)/rotate\n",
      "            mid_v = -1.0j*strength*np.log((mid_pos_new - panels[i].length)/mid_pos_new)/(2.0*np.pi)\n",
      "            mid_vel += mid_v.conjugate()*rotate \n",
      "        pos += mid_vel*dt\n",
      "        pos_list.append(copy.copy(pos)[0])\n",
      "        t += dt\n",
      "    pos_list = np.array(pos_list)\n",
      "    plt.figure(figsize=(15.0,9.0))\n",
      "    plt.title('Trajectory of vortex using constant panel method', fontsize = 20, fontweight = 'bold')\n",
      "    plt.plot(pos_list.real, pos_list.imag, label='vortex')\n",
      "    start = []\n",
      "    for i in panels:\n",
      "        start.append(i.start)\n",
      "    start.append(panels[0].start)\n",
      "    start = np.array(start)\n",
      "    plt.plot(start.real, start.imag, label='panels')\n",
      "    plt.legend()\n",
      "    outfile.savefig()\n",
      "    plt.close()"
     ],
     "language": "python",
     "metadata": {},
     "outputs": [],
     "prompt_number": 411
    },
    {
     "cell_type": "code",
     "collapsed": false,
     "input": [
      "def images(dt=0.1, tot_t=20.0, r=1.0, vort_pos=1.5+0.0j, vort_str=2*np.pi):\n",
      "    pos = copy.copy(vort_pos)\n",
      "    pos_list = [pos]\n",
      "    t = 0.0\n",
      "    imag2 = 0.0 + 0.0j\n",
      "    while t < tot_t:\n",
      "        imag1 = r*r/(pos.conjugate())\n",
      "        vel = vortex_vel(pos, imag1, -1*vort_str) + vortex_vel(pos, imag2, vort_str)\n",
      "        mid_pos = pos + vel*dt/2.0\n",
      "        mid_imag1 = r*r/(mid_pos.conjugate())\n",
      "        mid_vel = vortex_vel(mid_pos, mid_imag1, -1*vort_str) + vortex_vel(mid_pos, imag2, vort_str)\n",
      "        pos += mid_vel*dt\n",
      "        pos_list.append(copy.copy(pos))\n",
      "        t += dt\n",
      "    pos_list = np.array(pos_list)\n",
      "    plt.figure(figsize=(15.0,9.0))\n",
      "    plt.title('Trajectory of vortex using method of images', fontsize = 20, fontweight = 'bold')\n",
      "    plt.plot(pos_list.real, pos_list.imag, label='vortex')\n",
      "    ang = np.linspace(0.0, 2*np.pi, 101)\n",
      "    plt.plot(np.cos(ang), np.sin(ang), label='cylinder')\n",
      "    plt.legend()\n",
      "    outfile.savefig()\n",
      "    plt.close()"
     ],
     "language": "python",
     "metadata": {},
     "outputs": [],
     "prompt_number": 412
    },
    {
     "cell_type": "code",
     "collapsed": false,
     "input": [
      "if __name__ == '__main__':\n",
      "    outfile = PdfPages('final_report.pdf')\n",
      "    plt.clf()\n",
      "#    error_plots()\n",
      "    trajectory()\n",
      "    images()\n",
      "    outfile.close()"
     ],
     "language": "python",
     "metadata": {},
     "outputs": [],
     "prompt_number": 413
    },
    {
     "cell_type": "code",
     "collapsed": false,
     "input": [],
     "language": "python",
     "metadata": {},
     "outputs": []
    }
   ],
   "metadata": {}
  }
 ]
}